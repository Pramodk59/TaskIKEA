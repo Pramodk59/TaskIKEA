{
 "cells": [
  {
   "cell_type": "code",
   "execution_count": null,
   "id": "9f54994a-04cb-4627-be61-2d21c6fc14ab",
   "metadata": {},
   "outputs": [],
   "source": [
    "from zenml import pipeline\n",
    "from data_retrieval import get_data\n",
    "from preprocessing import preprocess_data\n",
    "from feature_engineering import engineer_features\n",
    "from model_training import train_model\n",
    "from evaluation import evaluate_model\n",
    "\n",
    "@pipeline\n",
    "def breast_cancer_pipeline():\n",
    "    # Data retrieval\n",
    "    data = get_data()\n",
    "    \n",
    "    # Data preprocessing\n",
    "    X, y = preprocess_data(data)\n",
    "    \n",
    "    # Feature engineering\n",
    "    X_engineered = engineer_features(X)\n",
    "    \n",
    "    # Model training\n",
    "    model, X_test, y_test = train_model(X_engineered, y)\n",
    "    \n",
    "    # Model evaluation\n",
    "    metrics = evaluate_model(model, X_test, y_test)\n",
    "    \n",
    "    # Log metrics (or print)\n",
    "    print(metrics)\n",
    "\n",
    "# Run the pipeline\n",
    "if __name__ == \"__main__\":\n",
    "    breast_cancer_pipeline()"
   ]
  },
  {
   "cell_type": "code",
   "execution_count": null,
   "id": "9d182e6e-bab5-49c8-9ffe-067535133b8d",
   "metadata": {},
   "outputs": [],
   "source": []
  }
 ],
 "metadata": {
  "kernelspec": {
   "display_name": "Python 3 (ipykernel)",
   "language": "python",
   "name": "python3"
  },
  "language_info": {
   "codemirror_mode": {
    "name": "ipython",
    "version": 3
   },
   "file_extension": ".py",
   "mimetype": "text/x-python",
   "name": "python",
   "nbconvert_exporter": "python",
   "pygments_lexer": "ipython3",
   "version": "3.11.7"
  }
 },
 "nbformat": 4,
 "nbformat_minor": 5
}
