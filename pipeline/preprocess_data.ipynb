{
 "cells": [
  {
   "cell_type": "code",
   "execution_count": 25,
   "id": "80d11d83-f17e-42a3-b2f7-36a34670b05f",
   "metadata": {},
   "outputs": [],
   "source": [
    "from sklearn.preprocessing import StandardScaler\n",
    "import pandas as pd\n",
    "from sklearn.decomposition import PCA\n",
    "from scipy import stats"
   ]
  },
  {
   "cell_type": "code",
   "execution_count": 26,
   "id": "7d48bdaa-c140-4ad9-ad7b-58c5aed38c05",
   "metadata": {},
   "outputs": [],
   "source": [
    "def remove_outliers(df):\n",
    "    z_scores = stats.zscore(df.select_dtypes(include=[float, int]))\n",
    "    abs_z_scores = np.abs(z_scores)\n",
    "    filtered_entries = (abs_z_scores < 3).all(axis=1)\n",
    "    return df[filtered_entries]"
   ]
  },
  {
   "cell_type": "code",
   "execution_count": 27,
   "id": "09bc5d48-0010-442f-8a89-cbf627fb2244",
   "metadata": {},
   "outputs": [],
   "source": [
    "def apply_pca(X, n_components=2):\n",
    "    pca = PCA(n_components=n_components)\n",
    "    return pca.fit_transform(X)"
   ]
  },
  {
   "cell_type": "code",
   "execution_count": 28,
   "id": "6213f766-e33e-4c8c-a40e-fe56cdaa7dce",
   "metadata": {},
   "outputs": [],
   "source": [
    "def preprocess_data(df):\n",
    "    #corelation among featres\n",
    "    correlation_matrix = df.corr()\n",
    "    print(correlation_matrix)   \n",
    "    n_components=2\n",
    "    # Check for missing values\n",
    "    if df.isnull().sum().any():\n",
    "        df = df.dropna()  # or handle missing values appropriately\n",
    "\n",
    "    # Separate features and target\n",
    "    X = df.drop(columns='target')\n",
    "    y = df['target']\n",
    "\n",
    "    # Normalize features to have zero mean and unit variance:\n",
    "    scaler = StandardScaler()\n",
    "    X_scaled = scaler.fit_transform(X)\n",
    "    X_scaled=remove_outliers(X_scaled)\n",
    "    apply_pca(X_scaled,n_components)\n",
    "    print(x_scaled)\n",
    "    return X_scaled, y"
   ]
  },
  {
   "cell_type": "code",
   "execution_count": null,
   "id": "7b86735c-9a83-4b2c-8635-0878f2a6addd",
   "metadata": {},
   "outputs": [],
   "source": []
  }
 ],
 "metadata": {
  "kernelspec": {
   "display_name": "Python 3 (ipykernel)",
   "language": "python",
   "name": "python3"
  },
  "language_info": {
   "codemirror_mode": {
    "name": "ipython",
    "version": 3
   },
   "file_extension": ".py",
   "mimetype": "text/x-python",
   "name": "python",
   "nbconvert_exporter": "python",
   "pygments_lexer": "ipython3",
   "version": "3.11.7"
  }
 },
 "nbformat": 4,
 "nbformat_minor": 5
}
