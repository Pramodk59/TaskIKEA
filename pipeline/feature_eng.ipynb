{
 "cells": [
  {
   "cell_type": "code",
   "execution_count": 2,
   "id": "b69530e9-8849-48be-95ae-436977f3e863",
   "metadata": {},
   "outputs": [],
   "source": [
    "from sklearn.preprocessing import PolynomialFeatures\n",
    "import pandas as pd"
   ]
  },
  {
   "cell_type": "code",
   "execution_count": 4,
   "id": "6ffdfa31-4450-4af7-8edd-338bfbbb9475",
   "metadata": {},
   "outputs": [],
   "source": [
    "def engineer_features(X):\n",
    "    # Example: adding polynomial features\n",
    "    poly = PolynomialFeatures(degree=2, interaction_only=False)\n",
    "    X_poly = poly.fit_transform(X)\n",
    "    return X_poly"
   ]
  },
  {
   "cell_type": "code",
   "execution_count": null,
   "id": "84594142-664e-46a5-9c4e-0c0dd540ef0f",
   "metadata": {},
   "outputs": [],
   "source": []
  }
 ],
 "metadata": {
  "kernelspec": {
   "display_name": "Python 3 (ipykernel)",
   "language": "python",
   "name": "python3"
  },
  "language_info": {
   "codemirror_mode": {
    "name": "ipython",
    "version": 3
   },
   "file_extension": ".py",
   "mimetype": "text/x-python",
   "name": "python",
   "nbconvert_exporter": "python",
   "pygments_lexer": "ipython3",
   "version": "3.11.7"
  }
 },
 "nbformat": 4,
 "nbformat_minor": 5
}
