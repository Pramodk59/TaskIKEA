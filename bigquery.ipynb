{
 "cells": [
  {
   "cell_type": "code",
   "execution_count": 6,
   "id": "6463960c-3ee9-4b49-adb4-f0f3e6c70a64",
   "metadata": {
    "scrolled": true
   },
   "outputs": [
    {
     "ename": "ModuleNotFoundError",
     "evalue": "No module named 'google.cloud'",
     "output_type": "error",
     "traceback": [
      "\u001b[1;31m---------------------------------------------------------------------------\u001b[0m",
      "\u001b[1;31mModuleNotFoundError\u001b[0m                       Traceback (most recent call last)",
      "Cell \u001b[1;32mIn[6], line 4\u001b[0m\n\u001b[0;32m      1\u001b[0m \u001b[38;5;66;03m# bigquery_sdk/config.py\u001b[39;00m\n\u001b[0;32m      3\u001b[0m \u001b[38;5;28;01mimport\u001b[39;00m \u001b[38;5;21;01mos\u001b[39;00m\n\u001b[1;32m----> 4\u001b[0m \u001b[38;5;28;01mfrom\u001b[39;00m \u001b[38;5;21;01mgoogle\u001b[39;00m\u001b[38;5;21;01m.\u001b[39;00m\u001b[38;5;21;01mcloud\u001b[39;00m \u001b[38;5;28;01mimport\u001b[39;00m bigquery\n",
      "\u001b[1;31mModuleNotFoundError\u001b[0m: No module named 'google.cloud'"
     ]
    }
   ],
   "source": [
    "\n",
    "import os\n",
    "from google.cloud import bigquery"
   ]
  },
  {
   "cell_type": "code",
   "execution_count": 3,
   "id": "b7c6d4f4-fd83-40d6-9d8d-64213234523a",
   "metadata": {},
   "outputs": [],
   "source": []
  },
  {
   "cell_type": "code",
   "execution_count": 4,
   "id": "10512dfe-ff06-4f8c-ab84-a6df4bd52d0d",
   "metadata": {},
   "outputs": [],
   "source": [
    "def fetch_query_results(client, query):\n",
    "    \"\"\"\n",
    "    Executes a SQL query and returns the results as a Pandas DataFrame.\n",
    "    \"\"\"\n",
    "    query_job = client.query(query)\n",
    "    results = query_job.result()\n",
    "    return pd.DataFrame([dict(row) for row in results])"
   ]
  },
  {
   "cell_type": "code",
   "execution_count": null,
   "id": "8411397e-6353-441b-b2c0-b5defca840e6",
   "metadata": {},
   "outputs": [],
   "source": [
    "from bigquery_sdk.client import BigQueryClient\n",
    "\n",
    "# Initialize client with a service account key\n",
    "client = BigQueryClient(service_account_key_path=\"path/to/your/service_account_key.json\")\n",
    "\n",
    "# Execute a query\n",
    "query = \"SELECT * FROM `your_project.your_dataset.your_table` LIMIT 10\"\n",
    "df = client.execute_query(query)\n",
    "print(df)\n",
    "\n",
    "# List datasets in a project\n",
    "datasets = client.list_datasets(project_id=\"your_project_id\")\n",
    "print(datasets)"
   ]
  },
  {
   "cell_type": "code",
   "execution_count": 5,
   "id": "ef45ae00-5f11-45c2-a231-920e3676b87d",
   "metadata": {},
   "outputs": [
    {
     "ename": "ImportError",
     "evalue": "attempted relative import with no known parent package",
     "output_type": "error",
     "traceback": [
      "\u001b[1;31m---------------------------------------------------------------------------\u001b[0m",
      "\u001b[1;31mImportError\u001b[0m                               Traceback (most recent call last)",
      "Cell \u001b[1;32mIn[5], line 3\u001b[0m\n\u001b[0;32m      1\u001b[0m \u001b[38;5;66;03m# bigquery_sdk/client.py\u001b[39;00m\n\u001b[1;32m----> 3\u001b[0m \u001b[38;5;28;01mfrom\u001b[39;00m \u001b[38;5;21;01m.\u001b[39;00m\u001b[38;5;21;01mconfig\u001b[39;00m \u001b[38;5;28;01mimport\u001b[39;00m create_client\n\u001b[0;32m      4\u001b[0m \u001b[38;5;28;01mfrom\u001b[39;00m \u001b[38;5;21;01m.\u001b[39;00m\u001b[38;5;21;01mutils\u001b[39;00m \u001b[38;5;28;01mimport\u001b[39;00m fetch_query_results\n\u001b[0;32m      6\u001b[0m \u001b[38;5;28;01mclass\u001b[39;00m \u001b[38;5;21;01mBigQueryClient\u001b[39;00m:\n",
      "\u001b[1;31mImportError\u001b[0m: attempted relative import with no known parent package"
     ]
    }
   ],
   "source": [
    "\n",
    "\n",
    "from .config import create_client\n",
    "from .utils import fetch_query_results\n",
    "\n",
    "class BigQueryClient:\n",
    "    def __init__(self, service_account_key_path=None):\n",
    "        self.client = create_client(service_account_key_path)\n",
    "    \n",
    "    def execute_query(self, query):\n",
    "        \"\"\"\n",
    "        Executes a query on BigQuery and returns the result as a DataFrame.\n",
    "        \"\"\"\n",
    "        return fetch_query_results(self.client, query)\n",
    "    \n",
    "    def list_datasets(self, project_id=None):\n",
    "        \"\"\"\n",
    "        Lists all datasets in the specified GCP project.\n",
    "        \"\"\"\n",
    "        if project_id:\n",
    "            datasets = self.client.list_datasets(project=project_id)\n",
    "        else:\n",
    "            datasets = self.client.list_datasets()\n",
    "        return [dataset.dataset_id for dataset in datasets]"
   ]
  }
 ],
 "metadata": {
  "kernelspec": {
   "display_name": "Python 3 (ipykernel)",
   "language": "python",
   "name": "python3"
  },
  "language_info": {
   "codemirror_mode": {
    "name": "ipython",
    "version": 3
   },
   "file_extension": ".py",
   "mimetype": "text/x-python",
   "name": "python",
   "nbconvert_exporter": "python",
   "pygments_lexer": "ipython3",
   "version": "3.11.7"
  }
 },
 "nbformat": 4,
 "nbformat_minor": 5
}
